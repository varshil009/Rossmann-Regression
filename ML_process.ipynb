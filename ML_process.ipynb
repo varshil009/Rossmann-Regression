{
 "cells": [
  {
   "cell_type": "code",
   "execution_count": 31,
   "metadata": {
    "executionInfo": {
     "elapsed": 6,
     "status": "ok",
     "timestamp": 1702900040199,
     "user": {
      "displayName": "Varshil Prajapati",
      "userId": "11081746236361868441"
     },
     "user_tz": -330
    },
    "id": "tso5zBhHpH4G"
   },
   "outputs": [],
   "source": [
    "# common\n",
    "import pandas as pd\n",
    "import numpy as np\n",
    "import datetime\n",
    "import random\n",
    "\n",
    "# ML\n",
    "from sklearn.linear_model import LinearRegression, Lasso\n",
    "from xgboost import XGBRegressor\n",
    "from sklearn.ensemble import RandomForestRegressor\n",
    "\n",
    "# metrics\n",
    "from sklearn.metrics import mean_absolute_error, mean_squared_error\n",
    "\n",
    "# visulization\n",
    "import matplotlib.pyplot as plt \n",
    "import seaborn as sns\n",
    "\n",
    "# warnings\n",
    "import warnings\n",
    "warnings.filterwarnings(\"ignore\")"
   ]
  },
  {
   "cell_type": "code",
   "execution_count": 32,
   "metadata": {
    "executionInfo": {
     "elapsed": 4018,
     "status": "ok",
     "timestamp": 1702898268115,
     "user": {
      "displayName": "Varshil Prajapati",
      "userId": "11081746236361868441"
     },
     "user_tz": -330
    },
    "id": "7BLCQ52HoqTa"
   },
   "outputs": [],
   "source": [
    "df = pd.read_csv(\"E:\\skill based learning\\DATA SCIENCE\\Learn_Projects\\Rosemann Store Retail Sales Pred\\ml_ready2.csv\", low_memory = False)"
   ]
  },
  {
   "cell_type": "code",
   "execution_count": 33,
   "metadata": {
    "colab": {
     "base_uri": "https://localhost:8080/",
     "height": 313
    },
    "executionInfo": {
     "elapsed": 8,
     "status": "ok",
     "timestamp": 1702898379729,
     "user": {
      "displayName": "Varshil Prajapati",
      "userId": "11081746236361868441"
     },
     "user_tz": -330
    },
    "id": "gsJGWww0pxCt",
    "outputId": "0955dd36-6b2c-4a21-e46a-5e1e4224f316"
   },
   "outputs": [
    {
     "data": {
      "text/html": [
       "<div>\n",
       "<style scoped>\n",
       "    .dataframe tbody tr th:only-of-type {\n",
       "        vertical-align: middle;\n",
       "    }\n",
       "\n",
       "    .dataframe tbody tr th {\n",
       "        vertical-align: top;\n",
       "    }\n",
       "\n",
       "    .dataframe thead th {\n",
       "        text-align: right;\n",
       "    }\n",
       "</style>\n",
       "<table border=\"1\" class=\"dataframe\">\n",
       "  <thead>\n",
       "    <tr style=\"text-align: right;\">\n",
       "      <th></th>\n",
       "      <th>store</th>\n",
       "      <th>date</th>\n",
       "      <th>date.1</th>\n",
       "      <th>month</th>\n",
       "      <th>year</th>\n",
       "      <th>dayofweek</th>\n",
       "      <th>sales</th>\n",
       "      <th>customers</th>\n",
       "      <th>promo</th>\n",
       "      <th>state_hd</th>\n",
       "      <th>school_hd</th>\n",
       "      <th>store_type</th>\n",
       "      <th>assortment</th>\n",
       "      <th>comp_dist</th>\n",
       "      <th>comp_syr</th>\n",
       "      <th>promo2</th>\n",
       "      <th>promo_active</th>\n",
       "      <th>comp_time_months_real</th>\n",
       "      <th>promo2_time_months_real</th>\n",
       "    </tr>\n",
       "  </thead>\n",
       "  <tbody>\n",
       "    <tr>\n",
       "      <th>0</th>\n",
       "      <td>494</td>\n",
       "      <td>2013-01-01</td>\n",
       "      <td>1</td>\n",
       "      <td>1</td>\n",
       "      <td>2013</td>\n",
       "      <td>2</td>\n",
       "      <td>8.043663</td>\n",
       "      <td>6.269096</td>\n",
       "      <td>0</td>\n",
       "      <td>1</td>\n",
       "      <td>1</td>\n",
       "      <td>3</td>\n",
       "      <td>1</td>\n",
       "      <td>-0.173420</td>\n",
       "      <td>2011</td>\n",
       "      <td>0</td>\n",
       "      <td>0</td>\n",
       "      <td>-0.454545</td>\n",
       "      <td>0</td>\n",
       "    </tr>\n",
       "    <tr>\n",
       "      <th>1</th>\n",
       "      <td>274</td>\n",
       "      <td>2013-01-01</td>\n",
       "      <td>1</td>\n",
       "      <td>1</td>\n",
       "      <td>2013</td>\n",
       "      <td>2</td>\n",
       "      <td>8.040125</td>\n",
       "      <td>6.593045</td>\n",
       "      <td>0</td>\n",
       "      <td>1</td>\n",
       "      <td>1</td>\n",
       "      <td>3</td>\n",
       "      <td>3</td>\n",
       "      <td>0.212318</td>\n",
       "      <td>1994</td>\n",
       "      <td>1</td>\n",
       "      <td>1</td>\n",
       "      <td>1.585859</td>\n",
       "      <td>0</td>\n",
       "    </tr>\n",
       "    <tr>\n",
       "      <th>2</th>\n",
       "      <td>530</td>\n",
       "      <td>2013-01-01</td>\n",
       "      <td>1</td>\n",
       "      <td>1</td>\n",
       "      <td>2013</td>\n",
       "      <td>2</td>\n",
       "      <td>7.975221</td>\n",
       "      <td>6.278521</td>\n",
       "      <td>0</td>\n",
       "      <td>1</td>\n",
       "      <td>1</td>\n",
       "      <td>1</td>\n",
       "      <td>2</td>\n",
       "      <td>2.565640</td>\n",
       "      <td>2014</td>\n",
       "      <td>0</td>\n",
       "      <td>0</td>\n",
       "      <td>-0.646465</td>\n",
       "      <td>0</td>\n",
       "    </tr>\n",
       "    <tr>\n",
       "      <th>3</th>\n",
       "      <td>676</td>\n",
       "      <td>2013-01-01</td>\n",
       "      <td>1</td>\n",
       "      <td>1</td>\n",
       "      <td>2013</td>\n",
       "      <td>2</td>\n",
       "      <td>8.248529</td>\n",
       "      <td>6.656727</td>\n",
       "      <td>0</td>\n",
       "      <td>1</td>\n",
       "      <td>1</td>\n",
       "      <td>3</td>\n",
       "      <td>3</td>\n",
       "      <td>-0.149109</td>\n",
       "      <td>2008</td>\n",
       "      <td>0</td>\n",
       "      <td>0</td>\n",
       "      <td>-0.121212</td>\n",
       "      <td>0</td>\n",
       "    </tr>\n",
       "    <tr>\n",
       "      <th>4</th>\n",
       "      <td>733</td>\n",
       "      <td>2013-01-01</td>\n",
       "      <td>1</td>\n",
       "      <td>1</td>\n",
       "      <td>2013</td>\n",
       "      <td>2</td>\n",
       "      <td>9.284148</td>\n",
       "      <td>7.774015</td>\n",
       "      <td>0</td>\n",
       "      <td>1</td>\n",
       "      <td>1</td>\n",
       "      <td>3</td>\n",
       "      <td>3</td>\n",
       "      <td>-0.238250</td>\n",
       "      <td>1999</td>\n",
       "      <td>0</td>\n",
       "      <td>0</td>\n",
       "      <td>0.979798</td>\n",
       "      <td>0</td>\n",
       "    </tr>\n",
       "  </tbody>\n",
       "</table>\n",
       "</div>"
      ],
      "text/plain": [
       "   store        date  date.1  month  year  dayofweek     sales  customers  \\\n",
       "0    494  2013-01-01       1      1  2013          2  8.043663   6.269096   \n",
       "1    274  2013-01-01       1      1  2013          2  8.040125   6.593045   \n",
       "2    530  2013-01-01       1      1  2013          2  7.975221   6.278521   \n",
       "3    676  2013-01-01       1      1  2013          2  8.248529   6.656727   \n",
       "4    733  2013-01-01       1      1  2013          2  9.284148   7.774015   \n",
       "\n",
       "   promo  state_hd  school_hd  store_type  assortment  comp_dist  comp_syr  \\\n",
       "0      0         1          1           3           1  -0.173420      2011   \n",
       "1      0         1          1           3           3   0.212318      1994   \n",
       "2      0         1          1           1           2   2.565640      2014   \n",
       "3      0         1          1           3           3  -0.149109      2008   \n",
       "4      0         1          1           3           3  -0.238250      1999   \n",
       "\n",
       "   promo2  promo_active  comp_time_months_real  promo2_time_months_real  \n",
       "0       0             0              -0.454545                        0  \n",
       "1       1             1               1.585859                        0  \n",
       "2       0             0              -0.646465                        0  \n",
       "3       0             0              -0.121212                        0  \n",
       "4       0             0               0.979798                        0  "
      ]
     },
     "execution_count": 33,
     "metadata": {},
     "output_type": "execute_result"
    }
   ],
   "source": [
    "df.head()"
   ]
  },
  {
   "cell_type": "code",
   "execution_count": 34,
   "metadata": {
    "executionInfo": {
     "elapsed": 699,
     "status": "ok",
     "timestamp": 1702898565081,
     "user": {
      "displayName": "Varshil Prajapati",
      "userId": "11081746236361868441"
     },
     "user_tz": -330
    },
    "id": "8KVWCDgVqWNm"
   },
   "outputs": [],
   "source": [
    "df['date'] = pd.to_datetime(df.date, format  = '%Y-%m-%d')"
   ]
  },
  {
   "cell_type": "code",
   "execution_count": 35,
   "metadata": {
    "colab": {
     "base_uri": "https://localhost:8080/"
    },
    "executionInfo": {
     "elapsed": 2568,
     "status": "ok",
     "timestamp": 1702898646348,
     "user": {
      "displayName": "Varshil Prajapati",
      "userId": "11081746236361868441"
     },
     "user_tz": -330
    },
    "id": "q4Lpn635p4aE",
    "outputId": "639a0304-0d4a-4e0d-a776-bbf73d959cd9"
   },
   "outputs": [
    {
     "name": "stdout",
     "output_type": "stream",
     "text": [
      "Minimun Train date : 2013-01-01 00:00:00\n",
      "Maximum test date : 2015-06-18 00:00:00\n",
      "Maximum Test date : 2015-07-31 00:00:00\n"
     ]
    }
   ],
   "source": [
    "# define out boundary date\n",
    "edge_date = pd.to_datetime(max(df.date) - datetime.timedelta(days = 6*7))\n",
    "\n",
    "# split X train and test parts\n",
    "X_train = df[df.date < edge_date]\n",
    "y_train = X_train.sales\n",
    "X_train.drop('sales', axis = 1, inplace = True)\n",
    "\n",
    "X_test = df[df.date >= edge_date]\n",
    "y_test = X_test.sales\n",
    "X_test.drop('sales', axis = 1, inplace = True)\n",
    "\n",
    "# date diff\n",
    "print(\"Minimun Train date : {}\\nMaximum test date : {}\".format(X_train.date.min(), X_train.date.max()))\n",
    "print(\"Maximum Test date : {}\".format(X_test.date.max()))\n",
    "\n",
    "# save the dates before dropping\n",
    "X_train_id = X_train.date\n",
    "X_test_id = X_test.date\n",
    "\n",
    "# drop date (Not useful in regression)\n",
    "X_train.drop('date', axis = 1, inplace = True)\n",
    "X_test.drop('date', axis = 1, inplace = True)"
   ]
  },
  {
   "cell_type": "code",
   "execution_count": 36,
   "metadata": {
    "colab": {
     "base_uri": "https://localhost:8080/"
    },
    "executionInfo": {
     "elapsed": 5,
     "status": "ok",
     "timestamp": 1702898651180,
     "user": {
      "displayName": "Varshil Prajapati",
      "userId": "11081746236361868441"
     },
     "user_tz": -330
    },
    "id": "cHzzksg1p74M",
    "outputId": "96943240-5efc-4582-fe70-2ea624e1a5e5"
   },
   "outputs": [
    {
     "name": "stdout",
     "output_type": "stream",
     "text": [
      "Train size : 802996\n",
      "Test size : 41396\n"
     ]
    }
   ],
   "source": [
    "print(\"Train size : {}\\nTest size : {}\".format(X_train.shape[0], X_test.shape[0]))"
   ]
  },
  {
   "cell_type": "code",
   "execution_count": 37,
   "metadata": {
    "executionInfo": {
     "elapsed": 2,
     "status": "ok",
     "timestamp": 1702898339341,
     "user": {
      "displayName": "Varshil Prajapati",
      "userId": "11081746236361868441"
     },
     "user_tz": -330
    },
    "id": "5fmy4BAMpecU"
   },
   "outputs": [],
   "source": [
    "def mean_absolute_percentage_error(y, yhat):\n",
    "    return np.mean(np.abs((y - yhat) / y)*100)\n",
    "\n",
    "def ml_error(model_name, y, yhat):\n",
    "    mae = mean_absolute_error(y, yhat)\n",
    "    mape = mean_absolute_percentage_error(y, yhat)\n",
    "    rmse = np.sqrt(mean_squared_error(y, yhat))\n",
    "\n",
    "    return pd.DataFrame({\"MAE\": mae,\n",
    "                         \"MAPE\": mape,\n",
    "                         \"RMSE\": rmse}, index=[model_name])"
   ]
  },
  {
   "cell_type": "code",
   "execution_count": 38,
   "metadata": {
    "colab": {
     "base_uri": "https://localhost:8080/",
     "height": 89
    },
    "executionInfo": {
     "elapsed": 1885,
     "status": "ok",
     "timestamp": 1702898677337,
     "user": {
      "displayName": "Varshil Prajapati",
      "userId": "11081746236361868441"
     },
     "user_tz": -330
    },
    "id": "TA2M2RHso-RQ",
    "outputId": "b0bd8cb9-c70b-4ad7-b282-bb028bd74637"
   },
   "outputs": [
    {
     "data": {
      "text/html": [
       "<div>\n",
       "<style scoped>\n",
       "    .dataframe tbody tr th:only-of-type {\n",
       "        vertical-align: middle;\n",
       "    }\n",
       "\n",
       "    .dataframe tbody tr th {\n",
       "        vertical-align: top;\n",
       "    }\n",
       "\n",
       "    .dataframe thead th {\n",
       "        text-align: right;\n",
       "    }\n",
       "</style>\n",
       "<table border=\"1\" class=\"dataframe\">\n",
       "  <thead>\n",
       "    <tr style=\"text-align: right;\">\n",
       "      <th></th>\n",
       "      <th>MAE</th>\n",
       "      <th>MAPE</th>\n",
       "      <th>RMSE</th>\n",
       "    </tr>\n",
       "  </thead>\n",
       "  <tbody>\n",
       "    <tr>\n",
       "      <th>Linear Regression</th>\n",
       "      <td>1045.567936</td>\n",
       "      <td>15.048535</td>\n",
       "      <td>1458.299329</td>\n",
       "    </tr>\n",
       "  </tbody>\n",
       "</table>\n",
       "</div>"
      ],
      "text/plain": [
       "                           MAE       MAPE         RMSE\n",
       "Linear Regression  1045.567936  15.048535  1458.299329"
      ]
     },
     "execution_count": 38,
     "metadata": {},
     "output_type": "execute_result"
    }
   ],
   "source": [
    "##  model\n",
    "lr = LinearRegression()\n",
    "lr.fit(X_train, y_train)\n",
    "\n",
    "# prediction\n",
    "y_pred_lr = lr.predict(X_test)\n",
    "\n",
    "# perfomance\n",
    "# np.expm1 is anti logarithm\n",
    "lr_result = ml_error(\"Linear Regression\", np.expm1(y_test), np.expm1(y_pred_lr))\n",
    "lr_result"
   ]
  },
  {
   "cell_type": "code",
   "execution_count": 39,
   "metadata": {
    "colab": {
     "base_uri": "https://localhost:8080/",
     "height": 89
    },
    "executionInfo": {
     "elapsed": 902,
     "status": "ok",
     "timestamp": 1702898688901,
     "user": {
      "displayName": "Varshil Prajapati",
      "userId": "11081746236361868441"
     },
     "user_tz": -330
    },
    "id": "fG9movXgq6hF",
    "outputId": "5a67e3b5-1fd8-4ad2-8204-c61144d0d65e"
   },
   "outputs": [
    {
     "data": {
      "text/html": [
       "<div>\n",
       "<style scoped>\n",
       "    .dataframe tbody tr th:only-of-type {\n",
       "        vertical-align: middle;\n",
       "    }\n",
       "\n",
       "    .dataframe tbody tr th {\n",
       "        vertical-align: top;\n",
       "    }\n",
       "\n",
       "    .dataframe thead th {\n",
       "        text-align: right;\n",
       "    }\n",
       "</style>\n",
       "<table border=\"1\" class=\"dataframe\">\n",
       "  <thead>\n",
       "    <tr style=\"text-align: right;\">\n",
       "      <th></th>\n",
       "      <th>MAE</th>\n",
       "      <th>MAPE</th>\n",
       "      <th>RMSE</th>\n",
       "    </tr>\n",
       "  </thead>\n",
       "  <tbody>\n",
       "    <tr>\n",
       "      <th>LR Lasso</th>\n",
       "      <td>1107.31162</td>\n",
       "      <td>15.65984</td>\n",
       "      <td>1582.536818</td>\n",
       "    </tr>\n",
       "  </tbody>\n",
       "</table>\n",
       "</div>"
      ],
      "text/plain": [
       "                 MAE      MAPE         RMSE\n",
       "LR Lasso  1107.31162  15.65984  1582.536818"
      ]
     },
     "execution_count": 39,
     "metadata": {},
     "output_type": "execute_result"
    }
   ],
   "source": [
    "# model\n",
    "lrr = Lasso(alpha=0.01)\n",
    "lrr.fit(X_train, y_train)\n",
    "\n",
    "# prediction\n",
    "y_pred_lrr = lrr.predict(X_test)\n",
    "\n",
    "# perfomance\n",
    "lrr_result = ml_error(\"LR Lasso\", np.expm1(y_test), np.expm1(y_pred_lrr))\n",
    "lrr_result"
   ]
  },
  {
   "cell_type": "code",
   "execution_count": 40,
   "metadata": {
    "colab": {
     "base_uri": "https://localhost:8080/",
     "height": 89
    },
    "executionInfo": {
     "elapsed": 255411,
     "status": "ok",
     "timestamp": 1702898961905,
     "user": {
      "displayName": "Varshil Prajapati",
      "userId": "11081746236361868441"
     },
     "user_tz": -330
    },
    "id": "clBOvod5rAy1",
    "outputId": "8d053ae4-1c74-4fd7-e330-43469fcf8fe9"
   },
   "outputs": [
    {
     "data": {
      "text/html": [
       "<div>\n",
       "<style scoped>\n",
       "    .dataframe tbody tr th:only-of-type {\n",
       "        vertical-align: middle;\n",
       "    }\n",
       "\n",
       "    .dataframe tbody tr th {\n",
       "        vertical-align: top;\n",
       "    }\n",
       "\n",
       "    .dataframe thead th {\n",
       "        text-align: right;\n",
       "    }\n",
       "</style>\n",
       "<table border=\"1\" class=\"dataframe\">\n",
       "  <thead>\n",
       "    <tr style=\"text-align: right;\">\n",
       "      <th></th>\n",
       "      <th>MAE</th>\n",
       "      <th>MAPE</th>\n",
       "      <th>RMSE</th>\n",
       "    </tr>\n",
       "  </thead>\n",
       "  <tbody>\n",
       "    <tr>\n",
       "      <th>Random Forest Regressor</th>\n",
       "      <td>383.056572</td>\n",
       "      <td>5.460499</td>\n",
       "      <td>577.587849</td>\n",
       "    </tr>\n",
       "  </tbody>\n",
       "</table>\n",
       "</div>"
      ],
      "text/plain": [
       "                                MAE      MAPE        RMSE\n",
       "Random Forest Regressor  383.056572  5.460499  577.587849"
      ]
     },
     "execution_count": 40,
     "metadata": {},
     "output_type": "execute_result"
    }
   ],
   "source": [
    "# model\n",
    "rf = RandomForestRegressor(\n",
    "                            n_estimators=30,\n",
    "                            random_state=42\n",
    "                          )\n",
    "rf.fit(X_train, y_train)\n",
    "\n",
    "# prediction\n",
    "y_pred_rf = rf.predict(X_test)\n",
    "\n",
    "# performance\n",
    "rf_result = ml_error(\"Random Forest Regressor\", np.expm1(y_test), np.expm1(y_pred_rf))\n",
    "rf_result"
   ]
  },
  {
   "cell_type": "code",
   "execution_count": 41,
   "metadata": {
    "colab": {
     "base_uri": "https://localhost:8080/",
     "height": 89
    },
    "executionInfo": {
     "elapsed": 15088,
     "status": "ok",
     "timestamp": 1702899002411,
     "user": {
      "displayName": "Varshil Prajapati",
      "userId": "11081746236361868441"
     },
     "user_tz": -330
    },
    "id": "YGLZzPQirHiG",
    "outputId": "197a620b-49f3-48b7-b2aa-6a04318093fc"
   },
   "outputs": [
    {
     "data": {
      "text/html": [
       "<div>\n",
       "<style scoped>\n",
       "    .dataframe tbody tr th:only-of-type {\n",
       "        vertical-align: middle;\n",
       "    }\n",
       "\n",
       "    .dataframe tbody tr th {\n",
       "        vertical-align: top;\n",
       "    }\n",
       "\n",
       "    .dataframe thead th {\n",
       "        text-align: right;\n",
       "    }\n",
       "</style>\n",
       "<table border=\"1\" class=\"dataframe\">\n",
       "  <thead>\n",
       "    <tr style=\"text-align: right;\">\n",
       "      <th></th>\n",
       "      <th>MAE</th>\n",
       "      <th>MAPE</th>\n",
       "      <th>RMSE</th>\n",
       "    </tr>\n",
       "  </thead>\n",
       "  <tbody>\n",
       "    <tr>\n",
       "      <th>XGBoost Regressor</th>\n",
       "      <td>509.387744</td>\n",
       "      <td>7.273343</td>\n",
       "      <td>739.627401</td>\n",
       "    </tr>\n",
       "  </tbody>\n",
       "</table>\n",
       "</div>"
      ],
      "text/plain": [
       "                          MAE      MAPE        RMSE\n",
       "XGBoost Regressor  509.387744  7.273343  739.627401"
      ]
     },
     "execution_count": 41,
     "metadata": {},
     "output_type": "execute_result"
    }
   ],
   "source": [
    "# model\n",
    "xgbr = XGBRegressor(\n",
    "                    n_estimators = 70,\n",
    "                    eta = 0.1,\n",
    "                    max_depth = 10,\n",
    "                    subsample = 0.7,\n",
    "                    )\n",
    "\n",
    "xgbr.fit(X_train, y_train)\n",
    "\n",
    "# prediction\n",
    "y_pred_xgb = xgbr.predict(X_test)\n",
    "\n",
    "# performance\n",
    "xgb_result = ml_error(\"XGBoost Regressor\", np.expm1(y_test), np.expm1(y_pred_xgb))\n",
    "xgb_result"
   ]
  },
  {
   "cell_type": "code",
   "execution_count": 56,
   "metadata": {
    "colab": {
     "base_uri": "https://localhost:8080/",
     "height": 206
    },
    "executionInfo": {
     "elapsed": 811,
     "status": "ok",
     "timestamp": 1702899036417,
     "user": {
      "displayName": "Varshil Prajapati",
      "userId": "11081746236361868441"
     },
     "user_tz": -330
    },
    "id": "8ujzyyjvrOD0",
    "outputId": "6bbdc23e-95e4-48ff-f657-eadb76e81b05"
   },
   "outputs": [
    {
     "data": {
      "text/html": [
       "<div>\n",
       "<style scoped>\n",
       "    .dataframe tbody tr th:only-of-type {\n",
       "        vertical-align: middle;\n",
       "    }\n",
       "\n",
       "    .dataframe tbody tr th {\n",
       "        vertical-align: top;\n",
       "    }\n",
       "\n",
       "    .dataframe thead th {\n",
       "        text-align: right;\n",
       "    }\n",
       "</style>\n",
       "<table border=\"1\" class=\"dataframe\">\n",
       "  <thead>\n",
       "    <tr style=\"text-align: right;\">\n",
       "      <th></th>\n",
       "      <th>MAE</th>\n",
       "      <th>MAPE</th>\n",
       "      <th>RMSE</th>\n",
       "    </tr>\n",
       "  </thead>\n",
       "  <tbody>\n",
       "    <tr>\n",
       "      <th>SARIMA</th>\n",
       "      <td>365.871221</td>\n",
       "      <td>12.661554</td>\n",
       "      <td>434.030830</td>\n",
       "    </tr>\n",
       "    <tr>\n",
       "      <th>Random Forest Regressor</th>\n",
       "      <td>383.056572</td>\n",
       "      <td>5.460499</td>\n",
       "      <td>577.587849</td>\n",
       "    </tr>\n",
       "    <tr>\n",
       "      <th>XGBoost Regressor</th>\n",
       "      <td>509.387744</td>\n",
       "      <td>7.273343</td>\n",
       "      <td>739.627401</td>\n",
       "    </tr>\n",
       "    <tr>\n",
       "      <th>Linear Regression</th>\n",
       "      <td>1045.567936</td>\n",
       "      <td>15.048535</td>\n",
       "      <td>1458.299329</td>\n",
       "    </tr>\n",
       "    <tr>\n",
       "      <th>LR Lasso</th>\n",
       "      <td>1107.311620</td>\n",
       "      <td>15.659840</td>\n",
       "      <td>1582.536818</td>\n",
       "    </tr>\n",
       "  </tbody>\n",
       "</table>\n",
       "</div>"
      ],
      "text/plain": [
       "                                 MAE       MAPE         RMSE\n",
       "SARIMA                    365.871221  12.661554   434.030830\n",
       "Random Forest Regressor   383.056572   5.460499   577.587849\n",
       "XGBoost Regressor         509.387744   7.273343   739.627401\n",
       "Linear Regression        1045.567936  15.048535  1458.299329\n",
       "LR Lasso                 1107.311620  15.659840  1582.536818"
      ]
     },
     "execution_count": 56,
     "metadata": {},
     "output_type": "execute_result"
    }
   ],
   "source": [
    "# INCLUDDE SARIMA DATA 365.871221\t12.661554\t434.03083\n",
    "sarima_err = pd.DataFrame({'MAE' : 365.871221, 'MAPE' : 12.661554, \"RMSE\" : 434.03083}, index = ['SARIMA'])\n",
    "models = pd.concat([sarima_err, lr_result, lrr_result, rf_result, xgb_result])\n",
    "models.sort_values(by = 'RMSE')"
   ]
  },
  {
   "cell_type": "markdown",
   "metadata": {
    "id": "3LL9-RVArUXd"
   },
   "source": [
    "#### **I Will use best in above table and it is ```RandomForestRegressor``` model for hyperparameter tuning and select the best parameters for our prediction from them**"
   ]
  },
  {
   "cell_type": "markdown",
   "metadata": {
    "id": "pE5fvn29s46B"
   },
   "source": [
    "### **Hyperparameter Tuning**"
   ]
  },
  {
   "cell_type": "code",
   "execution_count": 13,
   "metadata": {},
   "outputs": [
    {
     "data": {
      "text/plain": [
       "'import dask.dataframe as dd\\n# from dask_ml.wrappers import RandomForestRegressor as dask_rfr\\n# from dask_ml import joblib\\nfrom sklearn.externals.joblib import parallel_backend'"
      ]
     },
     "execution_count": 13,
     "metadata": {},
     "output_type": "execute_result"
    }
   ],
   "source": [
    "\"\"\"import dask.dataframe as dd\n",
    "# from dask_ml.wrappers import RandomForestRegressor as dask_rfr\n",
    "# from dask_ml import joblib\n",
    "from sklearn.externals.joblib import parallel_backend\"\"\""
   ]
  },
  {
   "cell_type": "code",
   "execution_count": 14,
   "metadata": {},
   "outputs": [
    {
     "data": {
      "text/plain": [
       "'dask_train_X = dd.from_pandas(X_train, npartitions=10)\\ndask_test_X = dd.from_pandas(X_test, npartitions=10)\\ndask_train_y = dd.from_pandas(y_train, npartitions=10) \\ndask_test_y = dd.from_pandas(y_test, npartitions=10) '"
      ]
     },
     "execution_count": 14,
     "metadata": {},
     "output_type": "execute_result"
    }
   ],
   "source": [
    "\"\"\"dask_train_X = dd.from_pandas(X_train, npartitions=10)\n",
    "dask_test_X = dd.from_pandas(X_test, npartitions=10)\n",
    "dask_train_y = dd.from_pandas(y_train, npartitions=10) \n",
    "dask_test_y = dd.from_pandas(y_test, npartitions=10) \"\"\""
   ]
  },
  {
   "cell_type": "code",
   "execution_count": 10,
   "metadata": {
    "executionInfo": {
     "elapsed": 687,
     "status": "ok",
     "timestamp": 1702900704381,
     "user": {
      "displayName": "Varshil Prajapati",
      "userId": "11081746236361868441"
     },
     "user_tz": -330
    },
    "id": "3gNrg0Bes8-K"
   },
   "outputs": [],
   "source": [
    "rfr_params = {\n",
    "    'n_estimators' : [20, 30],          # Number of trees in the forest\n",
    "    'criterion' : ['squared_error', 'absolute_error'],       # Criteria used to measure the quality of a split ('mse' for mean squared error)\n",
    "    'max_depth' : [7, 10],           # Maximum depth of the tree (default=None, nodes are expanded until they contain less than min_samples_split samples)\n",
    "    'oob_score' : [True, False],         # Whether to use out-of-bag samples to estimate the R^2 on unseen data\n",
    "    }"
   ]
  },
  {
   "cell_type": "code",
   "execution_count": 8,
   "metadata": {
    "id": "G9uNP-pW-gHT"
   },
   "outputs": [
    {
     "data": {
      "text/plain": [
       "'final_result = pd.DataFrame()\\nmax_iterations = 0\\npreds = []\\nused_hps = []\\nmax_loops = 0\\nwhile max_loops < 10:\\n\\n    # loop increment\\n    max_loops +=1\\n    # choose values for parameters randomly\\n    hp = {k : random.sample(v, 1)[0] for k, v in rfr_params.items() }\\n    print(hp)\\n    \\n    # check whether the hp has been used before if it is then skip the loop.\\n    if hp in used_hps: \\n        continue\\n    # model\\n    rfr = RandomForestRegressor  ( \\n                                  #random_state = 42   \\n                                  n_estimators = hp[\\'n_estimators\\'],  \\n                                  max_depth = hp[\\'max_depth\\'],\\n                                  criterion = hp[\\'criterion\\'], \\n                                  oob_score = hp[\\'oob_score\\']\\n                                  )\\n    # fit the data\\n    rfr.fit(X_train, y_train)\\n    # predict\\n    y_pred = rfr.predict(X_test)\\n    # save the predictions as pandas dataframe\\n    preds.append(y_pred)\\n    used_hps.append(hp)\\n    # get the perfomance and save it to dataframe\\n    #final_result = pd.concat( [final_result, ml_error(f\"{rfr.get_params()}\", np.expm1(y_test), np.expm1(y_pred))] )\\n    max_iterations+=1\\n    if max_iterations >= 3:\\n        break\\nfinal_result'"
      ]
     },
     "execution_count": 8,
     "metadata": {},
     "output_type": "execute_result"
    }
   ],
   "source": [
    "\"\"\"final_result = pd.DataFrame()\n",
    "max_iterations = 0\n",
    "preds = []\n",
    "used_hps = []\n",
    "max_loops = 0\n",
    "while max_loops < 10:\n",
    "\n",
    "    # loop increment\n",
    "    max_loops +=1\n",
    "    # choose values for parameters randomly\n",
    "    hp = {k : random.sample(v, 1)[0] for k, v in rfr_params.items() }\n",
    "    print(hp)\n",
    "    \n",
    "    # check whether the hp has been used before if it is then skip the loop.\n",
    "    if hp in used_hps: \n",
    "        continue\n",
    "    # model\n",
    "    rfr = RandomForestRegressor  ( \n",
    "                                  #random_state = 42   \n",
    "                                  n_estimators = hp['n_estimators'],  \n",
    "                                  max_depth = hp['max_depth'],\n",
    "                                  criterion = hp['criterion'], \n",
    "                                  oob_score = hp['oob_score']\n",
    "                                  )\n",
    "    # fit the data\n",
    "    rfr.fit(X_train, y_train)\n",
    "    # predict\n",
    "    y_pred = rfr.predict(X_test)\n",
    "    # save the predictions as pandas dataframe\n",
    "    preds.append(y_pred)\n",
    "    used_hps.append(hp)\n",
    "    # get the perfomance and save it to dataframe\n",
    "    #final_result = pd.concat( [final_result, ml_error(f\"{rfr.get_params()}\", np.expm1(y_test), np.expm1(y_pred))] )\n",
    "    max_iterations+=1\n",
    "    if max_iterations >= 3:\n",
    "        break\n",
    "final_result\n",
    "\"\"\""
   ]
  },
  {
   "cell_type": "code",
   "execution_count": 13,
   "metadata": {},
   "outputs": [
    {
     "ename": "NameError",
     "evalue": "name 'y_pred_xgb' is not defined",
     "output_type": "error",
     "traceback": [
      "\u001b[1;31m---------------------------------------------------------------------------\u001b[0m",
      "\u001b[1;31mNameError\u001b[0m                                 Traceback (most recent call last)",
      "Cell \u001b[1;32mIn[13], line 10\u001b[0m\n\u001b[0;32m      8\u001b[0m rfr1\u001b[38;5;241m.\u001b[39mfit(X_train, y_train)\n\u001b[0;32m      9\u001b[0m y_pred_1 \u001b[38;5;241m=\u001b[39m rfr1\u001b[38;5;241m.\u001b[39mpredict(X_test)\n\u001b[1;32m---> 10\u001b[0m rfr1_result \u001b[38;5;241m=\u001b[39m ml_error(\u001b[38;5;124m\"\u001b[39m\u001b[38;5;124m30 Trees 7 depth SE True OOB\u001b[39m\u001b[38;5;124m\"\u001b[39m, np\u001b[38;5;241m.\u001b[39mexpm1(y_test), np\u001b[38;5;241m.\u001b[39mexpm1(\u001b[43my_pred_xgb\u001b[49m))\n\u001b[0;32m     11\u001b[0m rfr1_result\n",
      "\u001b[1;31mNameError\u001b[0m: name 'y_pred_xgb' is not defined"
     ]
    }
   ],
   "source": [
    "rfr1 = RandomForestRegressor  ( \n",
    "                                  #random_state = 42   \n",
    "                                  n_estimators = 30,  \n",
    "                                  max_depth = 7,\n",
    "                                  criterion = 'squared_error', \n",
    "                                  oob_score = True\n",
    "                                  )\n",
    "rfr1.fit(X_train, y_train)\n",
    "y_pred_1 = rfr1.predict(X_test)"
   ]
  },
  {
   "cell_type": "code",
   "execution_count": 14,
   "metadata": {},
   "outputs": [
    {
     "data": {
      "text/html": [
       "<div>\n",
       "<style scoped>\n",
       "    .dataframe tbody tr th:only-of-type {\n",
       "        vertical-align: middle;\n",
       "    }\n",
       "\n",
       "    .dataframe tbody tr th {\n",
       "        vertical-align: top;\n",
       "    }\n",
       "\n",
       "    .dataframe thead th {\n",
       "        text-align: right;\n",
       "    }\n",
       "</style>\n",
       "<table border=\"1\" class=\"dataframe\">\n",
       "  <thead>\n",
       "    <tr style=\"text-align: right;\">\n",
       "      <th></th>\n",
       "      <th>MAE</th>\n",
       "      <th>MAPE</th>\n",
       "      <th>RMSE</th>\n",
       "    </tr>\n",
       "  </thead>\n",
       "  <tbody>\n",
       "    <tr>\n",
       "      <th>30 Trees 7 depth SE True OOB</th>\n",
       "      <td>974.238857</td>\n",
       "      <td>13.633249</td>\n",
       "      <td>1388.853045</td>\n",
       "    </tr>\n",
       "  </tbody>\n",
       "</table>\n",
       "</div>"
      ],
      "text/plain": [
       "                                     MAE       MAPE         RMSE\n",
       "30 Trees 7 depth SE True OOB  974.238857  13.633249  1388.853045"
      ]
     },
     "execution_count": 14,
     "metadata": {},
     "output_type": "execute_result"
    }
   ],
   "source": [
    "rfr1_result = ml_error(\"30 Trees 7 depth SE True OOB\", np.expm1(y_test), np.expm1(y_pred_1))\n",
    "rfr1_result"
   ]
  },
  {
   "cell_type": "code",
   "execution_count": 15,
   "metadata": {},
   "outputs": [
    {
     "data": {
      "text/html": [
       "<div>\n",
       "<style scoped>\n",
       "    .dataframe tbody tr th:only-of-type {\n",
       "        vertical-align: middle;\n",
       "    }\n",
       "\n",
       "    .dataframe tbody tr th {\n",
       "        vertical-align: top;\n",
       "    }\n",
       "\n",
       "    .dataframe thead th {\n",
       "        text-align: right;\n",
       "    }\n",
       "</style>\n",
       "<table border=\"1\" class=\"dataframe\">\n",
       "  <thead>\n",
       "    <tr style=\"text-align: right;\">\n",
       "      <th></th>\n",
       "      <th>MAE</th>\n",
       "      <th>MAPE</th>\n",
       "      <th>RMSE</th>\n",
       "    </tr>\n",
       "  </thead>\n",
       "  <tbody>\n",
       "    <tr>\n",
       "      <th>30 Trees 7 depth SE True OOB</th>\n",
       "      <td>856.070738</td>\n",
       "      <td>11.993107</td>\n",
       "      <td>1222.522799</td>\n",
       "    </tr>\n",
       "  </tbody>\n",
       "</table>\n",
       "</div>"
      ],
      "text/plain": [
       "                                     MAE       MAPE         RMSE\n",
       "30 Trees 7 depth SE True OOB  856.070738  11.993107  1222.522799"
      ]
     },
     "execution_count": 15,
     "metadata": {},
     "output_type": "execute_result"
    }
   ],
   "source": [
    "rfr1 = RandomForestRegressor  ( \n",
    "                                  #random_state = 42   \n",
    "                                  n_estimators = 30,  \n",
    "                                  max_depth = 10,\n",
    "                                  criterion = 'squared_error', \n",
    "                                  oob_score = True\n",
    "                                  )\n",
    "rfr1.fit(X_train, y_train)\n",
    "y_pred_2 = rfr1.predict(X_test)"
   ]
  },
  {
   "cell_type": "code",
   "execution_count": 8,
   "metadata": {},
   "outputs": [
    {
     "data": {
      "text/html": [
       "<div>\n",
       "<style scoped>\n",
       "    .dataframe tbody tr th:only-of-type {\n",
       "        vertical-align: middle;\n",
       "    }\n",
       "\n",
       "    .dataframe tbody tr th {\n",
       "        vertical-align: top;\n",
       "    }\n",
       "\n",
       "    .dataframe thead th {\n",
       "        text-align: right;\n",
       "    }\n",
       "</style>\n",
       "<table border=\"1\" class=\"dataframe\">\n",
       "  <thead>\n",
       "    <tr style=\"text-align: right;\">\n",
       "      <th></th>\n",
       "      <th>MAE</th>\n",
       "      <th>MAPE</th>\n",
       "      <th>RMSE</th>\n",
       "    </tr>\n",
       "  </thead>\n",
       "  <tbody>\n",
       "    <tr>\n",
       "      <th>30 Trees 10 depth AE True OOB</th>\n",
       "      <td>855.377193</td>\n",
       "      <td>11.999262</td>\n",
       "      <td>1220.91006</td>\n",
       "    </tr>\n",
       "  </tbody>\n",
       "</table>\n",
       "</div>"
      ],
      "text/plain": [
       "                                      MAE       MAPE        RMSE\n",
       "30 Trees 10 depth AE True OOB  855.377193  11.999262  1220.91006"
      ]
     },
     "execution_count": 8,
     "metadata": {},
     "output_type": "execute_result"
    }
   ],
   "source": [
    "rfr3 = RandomForestRegressor  ( \n",
    "                                  #random_state = 42   \n",
    "                                  n_estimators = 30,  \n",
    "                                  max_depth = 10\n",
    "                                  )\n",
    "rfr3.fit(X_train, y_train)\n",
    "y_pred_3 = rfr3.predict(X_test)\n",
    "rfr3_result = ml_error(\"30 Trees 10 depth AE True OOB\", np.expm1(y_test), np.expm1(y_pred_3))\n",
    "rfr3_result"
   ]
  },
  {
   "cell_type": "code",
   "execution_count": 9,
   "metadata": {},
   "outputs": [
    {
     "data": {
      "text/html": [
       "<div>\n",
       "<style scoped>\n",
       "    .dataframe tbody tr th:only-of-type {\n",
       "        vertical-align: middle;\n",
       "    }\n",
       "\n",
       "    .dataframe tbody tr th {\n",
       "        vertical-align: top;\n",
       "    }\n",
       "\n",
       "    .dataframe thead th {\n",
       "        text-align: right;\n",
       "    }\n",
       "</style>\n",
       "<table border=\"1\" class=\"dataframe\">\n",
       "  <thead>\n",
       "    <tr style=\"text-align: right;\">\n",
       "      <th></th>\n",
       "      <th>MAE</th>\n",
       "      <th>MAPE</th>\n",
       "      <th>RMSE</th>\n",
       "    </tr>\n",
       "  </thead>\n",
       "  <tbody>\n",
       "    <tr>\n",
       "      <th>30 Trees 10 depth AE True OOB</th>\n",
       "      <td>973.077563</td>\n",
       "      <td>13.628461</td>\n",
       "      <td>1387.637334</td>\n",
       "    </tr>\n",
       "  </tbody>\n",
       "</table>\n",
       "</div>"
      ],
      "text/plain": [
       "                                      MAE       MAPE         RMSE\n",
       "30 Trees 10 depth AE True OOB  973.077563  13.628461  1387.637334"
      ]
     },
     "execution_count": 9,
     "metadata": {},
     "output_type": "execute_result"
    }
   ],
   "source": [
    "rfr4 = RandomForestRegressor(\n",
    "                            #random_state = 42   \n",
    "                            n_estimators = 40,  \n",
    "                            max_depth = 7\n",
    "                                  )\n",
    "rfr4.fit(X_train, y_train)\n",
    "y_pred_4 = rfr4.predict(X_test)\n"
   ]
  },
  {
   "cell_type": "code",
   "execution_count": 11,
   "metadata": {},
   "outputs": [
    {
     "data": {
      "text/html": [
       "<div>\n",
       "<style scoped>\n",
       "    .dataframe tbody tr th:only-of-type {\n",
       "        vertical-align: middle;\n",
       "    }\n",
       "\n",
       "    .dataframe tbody tr th {\n",
       "        vertical-align: top;\n",
       "    }\n",
       "\n",
       "    .dataframe thead th {\n",
       "        text-align: right;\n",
       "    }\n",
       "</style>\n",
       "<table border=\"1\" class=\"dataframe\">\n",
       "  <thead>\n",
       "    <tr style=\"text-align: right;\">\n",
       "      <th></th>\n",
       "      <th>MAE</th>\n",
       "      <th>MAPE</th>\n",
       "      <th>RMSE</th>\n",
       "    </tr>\n",
       "  </thead>\n",
       "  <tbody>\n",
       "    <tr>\n",
       "      <th>40 Trees 7 depth</th>\n",
       "      <td>973.077563</td>\n",
       "      <td>13.628461</td>\n",
       "      <td>1387.637334</td>\n",
       "    </tr>\n",
       "  </tbody>\n",
       "</table>\n",
       "</div>"
      ],
      "text/plain": [
       "                         MAE       MAPE         RMSE\n",
       "40 Trees 7 depth  973.077563  13.628461  1387.637334"
      ]
     },
     "execution_count": 11,
     "metadata": {},
     "output_type": "execute_result"
    }
   ],
   "source": [
    "rfr4_result = ml_error(\"40 Trees 7 depth\", np.expm1(y_test), np.expm1(y_pred_4))\n",
    "rfr4_result"
   ]
  },
  {
   "cell_type": "code",
   "execution_count": 12,
   "metadata": {},
   "outputs": [
    {
     "data": {
      "text/html": [
       "<div>\n",
       "<style scoped>\n",
       "    .dataframe tbody tr th:only-of-type {\n",
       "        vertical-align: middle;\n",
       "    }\n",
       "\n",
       "    .dataframe tbody tr th {\n",
       "        vertical-align: top;\n",
       "    }\n",
       "\n",
       "    .dataframe thead th {\n",
       "        text-align: right;\n",
       "    }\n",
       "</style>\n",
       "<table border=\"1\" class=\"dataframe\">\n",
       "  <thead>\n",
       "    <tr style=\"text-align: right;\">\n",
       "      <th></th>\n",
       "      <th>MAE</th>\n",
       "      <th>MAPE</th>\n",
       "      <th>RMSE</th>\n",
       "    </tr>\n",
       "  </thead>\n",
       "  <tbody>\n",
       "    <tr>\n",
       "      <th>40 Trees 10 depth AE True OOB</th>\n",
       "      <td>855.666039</td>\n",
       "      <td>11.998988</td>\n",
       "      <td>1221.827732</td>\n",
       "    </tr>\n",
       "  </tbody>\n",
       "</table>\n",
       "</div>"
      ],
      "text/plain": [
       "                                      MAE       MAPE         RMSE\n",
       "40 Trees 10 depth AE True OOB  855.666039  11.998988  1221.827732"
      ]
     },
     "execution_count": 12,
     "metadata": {},
     "output_type": "execute_result"
    }
   ],
   "source": [
    "rfr5 = RandomForestRegressor(\n",
    "                            #random_state = 42   \n",
    "                            n_estimators = 40,  \n",
    "                            max_depth = 10\n",
    "                                  )\n",
    "rfr5.fit(X_train, y_train)\n",
    "y_pred_5 = rfr5.predict(X_test)\n",
    "rfr5_result = ml_error(\"40 Trees 10 depth AE True OOB\", np.expm1(y_test), np.expm1(y_pred_5))\n",
    "rfr5_result"
   ]
  },
  {
   "cell_type": "markdown",
   "metadata": {},
   "source": [
    "\n",
    " ### `Random Forest Regressor` is giving best results when n_estimators = 30, random_state = 42.\n",
    " #### All other parameters are default.\n",
    " #### **Here is the default Values that are being used.**\n",
    " > **n_estimators = 30 <br>\n",
    " random_state = 42<br>\n",
    " criterion = 'gini'<br>\n",
    " max_depth = None<br>\n",
    " min_samples_split = 2<br>\n",
    " min_samples_leaf = 1<br>\n",
    " max_features = 'auto'<br>\n",
    " bootstrap = True<br>\n",
    " oob_score = False<br>\n",
    " class_weight = None**\n"
   ]
  },
  {
   "cell_type": "code",
   "execution_count": 43,
   "metadata": {},
   "outputs": [
    {
     "data": {
      "text/html": [
       "<div>\n",
       "<style scoped>\n",
       "    .dataframe tbody tr th:only-of-type {\n",
       "        vertical-align: middle;\n",
       "    }\n",
       "\n",
       "    .dataframe tbody tr th {\n",
       "        vertical-align: top;\n",
       "    }\n",
       "\n",
       "    .dataframe thead th {\n",
       "        text-align: right;\n",
       "    }\n",
       "</style>\n",
       "<table border=\"1\" class=\"dataframe\">\n",
       "  <thead>\n",
       "    <tr style=\"text-align: right;\">\n",
       "      <th></th>\n",
       "      <th>MAE</th>\n",
       "      <th>MAPE</th>\n",
       "      <th>RMSE</th>\n",
       "    </tr>\n",
       "  </thead>\n",
       "  <tbody>\n",
       "    <tr>\n",
       "      <th>Random Forest Regressor</th>\n",
       "      <td>383.056572</td>\n",
       "      <td>5.460499</td>\n",
       "      <td>577.587849</td>\n",
       "    </tr>\n",
       "  </tbody>\n",
       "</table>\n",
       "</div>"
      ],
      "text/plain": [
       "                                MAE      MAPE        RMSE\n",
       "Random Forest Regressor  383.056572  5.460499  577.587849"
      ]
     },
     "execution_count": 43,
     "metadata": {},
     "output_type": "execute_result"
    }
   ],
   "source": [
    "# So the final model shall look like below\n",
    " rfr = RandomForestRegressor(\n",
    "                               n_estimators = 30 <br>\n",
    "                                random_state = 42\n",
    "                                criterion = 'gini'\n",
    "                                max_depth = None\n",
    "                                min_samples_split = 2\n",
    "                                min_samples_leaf = 1\n",
    "                                max_features = 'auto'\n",
    "                                bootstrap = True\n",
    "                                oob_score = False\n",
    "                                class_weight = None\n",
    "                            )\n",
    "rfr.fit(X_train, y_train)\n",
    "y_pred_rf_ = rfr.predict(X_test)\n",
    "# \n",
    "# )"
   ]
  },
  {
   "cell_type": "code",
   "execution_count": 44,
   "metadata": {},
   "outputs": [
    {
     "data": {
      "image/png": "[encoded data removed]",
      "text/plain": [
       "<Figure size 1600x1000 with 1 Axes>"
      ]
     },
     "metadata": {},
     "output_type": "display_data"
    }
   ],
   "source": [
    "results = pd.concat([pd.Series(X_test_id).reset_index(), pd.Series(y_test).reset_index(), pd.Series(y_pred_rf).reset_index()], axis = 1)\n",
    "# lets plot the prediction and check the outcome.\n",
    "results.rename(columns = {0 : 'preds'}, inplace = True)\n",
    "plt.figure(figsize = (16, 10))\n",
    "sns.lineplot(results, x = 'date', y = 'sales', color = 'blue', label = 'Actual Values')\n",
    "sns.lineplot(results, x = 'date',y = 'preds', color = 'red', label = 'Predicted Values')\n",
    "plt.title(\"Random Forest Regressor prediction with 5% MAPE\", fontdict = {'size' : 20, 'family' : 'sans', 'color' : 'darkred',\n",
    "                                                                            'weight' : 'bold'})\n",
    "plt.grid(alpha = 0.7)                                                                           \n",
    "plt.show()"
   ]
  },
  {
   "cell_type": "markdown",
   "metadata": {},
   "source": [
    "### This is great !. Our model have predicted with least error space.\n",
    "### Now I will Sum up the predictions to get the total forecast revenue in next 6 weeks"
   ]
  },
  {
   "cell_type": "code",
   "execution_count": 45,
   "metadata": {},
   "outputs": [
    {
     "data": {
      "text/plain": [
       "'💲282,578,436.77'"
      ]
     },
     "execution_count": 45,
     "metadata": {},
     "output_type": "execute_result"
    }
   ],
   "source": [
    "\"💲{:,.2f}\".format(np.expm1(results.preds).sum())"
   ]
  },
  {
   "cell_type": "markdown",
   "metadata": {},
   "source": [
    "## **So the the predicted forecast is 282,578,436.77 💲**. \n",
    "### I will findout the predictions on worst case and best case scenario using MAE and MSE. "
   ]
  },
  {
   "cell_type": "code",
   "execution_count": 46,
   "metadata": {},
   "outputs": [],
   "source": [
    "# lets just inverse transform our predections to real price\n",
    "results['sales'] = np.expm1(results.sales)\n",
    "results['preds'] = np.expm1(results.preds)"
   ]
  },
  {
   "cell_type": "code",
   "execution_count": 47,
   "metadata": {},
   "outputs": [
    {
     "data": {
      "text/plain": [
       "(383.0565716665342, 333607.72332139424, 5.460499057258649)"
      ]
     },
     "execution_count": 47,
     "metadata": {},
     "output_type": "execute_result"
    }
   ],
   "source": [
    "# check errors again\n",
    "mae = mean_absolute_error(results.sales, results.preds)\n",
    "mape = mean_absolute_percentage_error(results.sales, results.preds)\n",
    "mse = mean_squared_error(results.sales, results.preds)\n",
    "mae, mse, mape"
   ]
  },
  {
   "cell_type": "code",
   "execution_count": 51,
   "metadata": {},
   "outputs": [
    {
     "data": {
      "text/html": [
       "<div>\n",
       "<style scoped>\n",
       "    .dataframe tbody tr th:only-of-type {\n",
       "        vertical-align: middle;\n",
       "    }\n",
       "\n",
       "    .dataframe tbody tr th {\n",
       "        vertical-align: top;\n",
       "    }\n",
       "\n",
       "    .dataframe thead th {\n",
       "        text-align: right;\n",
       "    }\n",
       "</style>\n",
       "<table border=\"1\" class=\"dataframe\">\n",
       "  <thead>\n",
       "    <tr style=\"text-align: right;\">\n",
       "      <th></th>\n",
       "      <th>index</th>\n",
       "      <th>store</th>\n",
       "      <th>date.1</th>\n",
       "      <th>month</th>\n",
       "      <th>year</th>\n",
       "      <th>dayofweek</th>\n",
       "      <th>customers</th>\n",
       "      <th>promo</th>\n",
       "      <th>state_hd</th>\n",
       "      <th>school_hd</th>\n",
       "      <th>...</th>\n",
       "      <th>promo2</th>\n",
       "      <th>promo_active</th>\n",
       "      <th>comp_time_months_real</th>\n",
       "      <th>promo2_time_months_real</th>\n",
       "      <th>preds</th>\n",
       "      <th>sales</th>\n",
       "      <th>worst_case_mae</th>\n",
       "      <th>best_case_mae</th>\n",
       "      <th>worst_case_mse</th>\n",
       "      <th>best_case_mse</th>\n",
       "    </tr>\n",
       "  </thead>\n",
       "  <tbody>\n",
       "    <tr>\n",
       "      <th>0</th>\n",
       "      <td>802996</td>\n",
       "      <td>540</td>\n",
       "      <td>19</td>\n",
       "      <td>6</td>\n",
       "      <td>2015</td>\n",
       "      <td>5</td>\n",
       "      <td>6.230481</td>\n",
       "      <td>1</td>\n",
       "      <td>4</td>\n",
       "      <td>0</td>\n",
       "      <td>...</td>\n",
       "      <td>1</td>\n",
       "      <td>0</td>\n",
       "      <td>0.070707</td>\n",
       "      <td>31</td>\n",
       "      <td>7679.554224</td>\n",
       "      <td>7721.0</td>\n",
       "      <td>2.825780e+08</td>\n",
       "      <td>2.825788e+08</td>\n",
       "      <td>2.821936e+08</td>\n",
       "      <td>2.829633e+08</td>\n",
       "    </tr>\n",
       "    <tr>\n",
       "      <th>1</th>\n",
       "      <td>802997</td>\n",
       "      <td>211</td>\n",
       "      <td>19</td>\n",
       "      <td>6</td>\n",
       "      <td>2015</td>\n",
       "      <td>5</td>\n",
       "      <td>7.337588</td>\n",
       "      <td>1</td>\n",
       "      <td>4</td>\n",
       "      <td>0</td>\n",
       "      <td>...</td>\n",
       "      <td>0</td>\n",
       "      <td>0</td>\n",
       "      <td>0.414141</td>\n",
       "      <td>0</td>\n",
       "      <td>13429.112004</td>\n",
       "      <td>14771.0</td>\n",
       "      <td>2.825780e+08</td>\n",
       "      <td>2.825788e+08</td>\n",
       "      <td>2.821936e+08</td>\n",
       "      <td>2.829633e+08</td>\n",
       "    </tr>\n",
       "    <tr>\n",
       "      <th>2</th>\n",
       "      <td>802998</td>\n",
       "      <td>676</td>\n",
       "      <td>19</td>\n",
       "      <td>6</td>\n",
       "      <td>2015</td>\n",
       "      <td>5</td>\n",
       "      <td>7.612831</td>\n",
       "      <td>1</td>\n",
       "      <td>4</td>\n",
       "      <td>0</td>\n",
       "      <td>...</td>\n",
       "      <td>0</td>\n",
       "      <td>0</td>\n",
       "      <td>0.181818</td>\n",
       "      <td>0</td>\n",
       "      <td>9307.036466</td>\n",
       "      <td>9568.0</td>\n",
       "      <td>2.825780e+08</td>\n",
       "      <td>2.825788e+08</td>\n",
       "      <td>2.821936e+08</td>\n",
       "      <td>2.829633e+08</td>\n",
       "    </tr>\n",
       "    <tr>\n",
       "      <th>3</th>\n",
       "      <td>802999</td>\n",
       "      <td>1047</td>\n",
       "      <td>19</td>\n",
       "      <td>6</td>\n",
       "      <td>2015</td>\n",
       "      <td>5</td>\n",
       "      <td>6.461468</td>\n",
       "      <td>1</td>\n",
       "      <td>4</td>\n",
       "      <td>0</td>\n",
       "      <td>...</td>\n",
       "      <td>1</td>\n",
       "      <td>0</td>\n",
       "      <td>-0.252525</td>\n",
       "      <td>68</td>\n",
       "      <td>6064.920419</td>\n",
       "      <td>5634.0</td>\n",
       "      <td>2.825780e+08</td>\n",
       "      <td>2.825788e+08</td>\n",
       "      <td>2.821936e+08</td>\n",
       "      <td>2.829633e+08</td>\n",
       "    </tr>\n",
       "    <tr>\n",
       "      <th>4</th>\n",
       "      <td>803000</td>\n",
       "      <td>88</td>\n",
       "      <td>19</td>\n",
       "      <td>6</td>\n",
       "      <td>2015</td>\n",
       "      <td>5</td>\n",
       "      <td>6.606650</td>\n",
       "      <td>1</td>\n",
       "      <td>4</td>\n",
       "      <td>0</td>\n",
       "      <td>...</td>\n",
       "      <td>0</td>\n",
       "      <td>0</td>\n",
       "      <td>0.545455</td>\n",
       "      <td>0</td>\n",
       "      <td>7375.372608</td>\n",
       "      <td>7183.0</td>\n",
       "      <td>2.825780e+08</td>\n",
       "      <td>2.825788e+08</td>\n",
       "      <td>2.821936e+08</td>\n",
       "      <td>2.829633e+08</td>\n",
       "    </tr>\n",
       "  </tbody>\n",
       "</table>\n",
       "<p>5 rows × 24 columns</p>\n",
       "</div>"
      ],
      "text/plain": [
       "    index  store  date.1  month  year  dayofweek  customers  promo  state_hd  \\\n",
       "0  802996    540      19      6  2015          5   6.230481      1         4   \n",
       "1  802997    211      19      6  2015          5   7.337588      1         4   \n",
       "2  802998    676      19      6  2015          5   7.612831      1         4   \n",
       "3  802999   1047      19      6  2015          5   6.461468      1         4   \n",
       "4  803000     88      19      6  2015          5   6.606650      1         4   \n",
       "\n",
       "   school_hd  ...  promo2  promo_active  comp_time_months_real  \\\n",
       "0          0  ...       1             0               0.070707   \n",
       "1          0  ...       0             0               0.414141   \n",
       "2          0  ...       0             0               0.181818   \n",
       "3          0  ...       1             0              -0.252525   \n",
       "4          0  ...       0             0               0.545455   \n",
       "\n",
       "   promo2_time_months_real         preds    sales  worst_case_mae  \\\n",
       "0                       31   7679.554224   7721.0    2.825780e+08   \n",
       "1                        0  13429.112004  14771.0    2.825780e+08   \n",
       "2                        0   9307.036466   9568.0    2.825780e+08   \n",
       "3                       68   6064.920419   5634.0    2.825780e+08   \n",
       "4                        0   7375.372608   7183.0    2.825780e+08   \n",
       "\n",
       "   best_case_mae  worst_case_mse  best_case_mse  \n",
       "0   2.825788e+08    2.821936e+08   2.829633e+08  \n",
       "1   2.825788e+08    2.821936e+08   2.829633e+08  \n",
       "2   2.825788e+08    2.821936e+08   2.829633e+08  \n",
       "3   2.825788e+08    2.821936e+08   2.829633e+08  \n",
       "4   2.825788e+08    2.821936e+08   2.829633e+08  \n",
       "\n",
       "[5 rows x 24 columns]"
      ]
     },
     "execution_count": 51,
     "metadata": {},
     "output_type": "execute_result"
    }
   ],
   "source": [
    "X_test.reset_index(inplace=True)\n",
    "X_test['preds'] = results.preds\n",
    "X_test['sales'] = results.sales"
   ]
  },
  {
   "cell_type": "code",
   "execution_count": 52,
   "metadata": {},
   "outputs": [
    {
     "data": {
      "text/html": [
       "<div>\n",
       "<style scoped>\n",
       "    .dataframe tbody tr th:only-of-type {\n",
       "        vertical-align: middle;\n",
       "    }\n",
       "\n",
       "    .dataframe tbody tr th {\n",
       "        vertical-align: top;\n",
       "    }\n",
       "\n",
       "    .dataframe thead th {\n",
       "        text-align: right;\n",
       "    }\n",
       "</style>\n",
       "<table border=\"1\" class=\"dataframe\">\n",
       "  <thead>\n",
       "    <tr style=\"text-align: right;\">\n",
       "      <th></th>\n",
       "      <th>Actual Prediction</th>\n",
       "      <th>Worst Case</th>\n",
       "      <th>Best Case</th>\n",
       "    </tr>\n",
       "  </thead>\n",
       "  <tbody>\n",
       "    <tr>\n",
       "      <th>MAE</th>\n",
       "      <td>💲282,578,436.77</td>\n",
       "      <td>💲282,578,053.71</td>\n",
       "      <td>💲282,578,819.83</td>\n",
       "    </tr>\n",
       "    <tr>\n",
       "      <th>MSE</th>\n",
       "      <td>💲282,578,436.77</td>\n",
       "      <td>💲282,244,829.05</td>\n",
       "      <td>💲282,912,044.49</td>\n",
       "    </tr>\n",
       "  </tbody>\n",
       "</table>\n",
       "</div>"
      ],
      "text/plain": [
       "    Actual Prediction       Worst Case        Best Case\n",
       "MAE   💲282,578,436.77  💲282,578,053.71  💲282,578,819.83\n",
       "MSE   💲282,578,436.77  💲282,244,829.05  💲282,912,044.49"
      ]
     },
     "execution_count": 52,
     "metadata": {},
     "output_type": "execute_result"
    }
   ],
   "source": [
    "final = pd.DataFrame({  'Actual Prediction' : [282578436.77, 282578436.77], \n",
    "                        'Worst Case' : [282578436.77 - mae, 282578436.77 - mse], \n",
    "                        'Best Case' : [282578436.77 + mae, 282578436.77 + mse],\n",
    "                        }, index = ['MAE', 'MSE'])\n",
    "final['Worst Case'] = final['Worst Case'].apply(lambda x : \"💲{:,.2f}\".format(x))\n",
    "final['Best Case'] = final['Best Case'].apply(lambda x : \"💲{:,.2f}\".format(x))\n",
    "final['Actual Prediction'] = final['Actual Prediction'].apply(lambda x : \"💲{:,.2f}\".format(x))\n",
    "\n",
    "final"
   ]
  },
  {
   "cell_type": "markdown",
   "metadata": {},
   "source": [
    "### **Individual store sales forecast.**"
   ]
  },
  {
   "cell_type": "code",
   "execution_count": 55,
   "metadata": {},
   "outputs": [
    {
     "data": {
      "text/html": [
       "<div>\n",
       "<style scoped>\n",
       "    .dataframe tbody tr th:only-of-type {\n",
       "        vertical-align: middle;\n",
       "    }\n",
       "\n",
       "    .dataframe tbody tr th {\n",
       "        vertical-align: top;\n",
       "    }\n",
       "\n",
       "    .dataframe thead th {\n",
       "        text-align: right;\n",
       "    }\n",
       "</style>\n",
       "<table border=\"1\" class=\"dataframe\">\n",
       "  <thead>\n",
       "    <tr style=\"text-align: right;\">\n",
       "      <th></th>\n",
       "      <th>store</th>\n",
       "      <th>Prediction Forecast</th>\n",
       "    </tr>\n",
       "  </thead>\n",
       "  <tbody>\n",
       "    <tr>\n",
       "      <th>0</th>\n",
       "      <td>1</td>\n",
       "      <td>💲159,590.72</td>\n",
       "    </tr>\n",
       "    <tr>\n",
       "      <th>1</th>\n",
       "      <td>2</td>\n",
       "      <td>💲183,918.89</td>\n",
       "    </tr>\n",
       "    <tr>\n",
       "      <th>2</th>\n",
       "      <td>3</td>\n",
       "      <td>💲258,583.94</td>\n",
       "    </tr>\n",
       "    <tr>\n",
       "      <th>3</th>\n",
       "      <td>4</td>\n",
       "      <td>💲349,204.87</td>\n",
       "    </tr>\n",
       "    <tr>\n",
       "      <th>4</th>\n",
       "      <td>5</td>\n",
       "      <td>💲163,563.09</td>\n",
       "    </tr>\n",
       "  </tbody>\n",
       "</table>\n",
       "</div>"
      ],
      "text/plain": [
       "   store Prediction Forecast\n",
       "0      1         💲159,590.72\n",
       "1      2         💲183,918.89\n",
       "2      3         💲258,583.94\n",
       "3      4         💲349,204.87\n",
       "4      5         💲163,563.09"
      ]
     },
     "execution_count": 55,
     "metadata": {},
     "output_type": "execute_result"
    }
   ],
   "source": [
    "u = X_test.groupby('store').preds.sum().head().reset_index(name = 'Prediction Forecast')\n",
    "u['Prediction Forecast'] = u['Prediction Forecast'].apply(lambda x : \"💲{:,.2f}\".format(x))\n",
    "u"
   ]
  }
 ],
 "metadata": {
  "colab": {
   "authorship_tag": "ABX9TyPGJcQ9yvt5hx3aLwoTOait",
   "provenance": []
  },
  "kernelspec": {
   "display_name": "Python 3 (ipykernel)",
   "language": "python",
   "name": "python3"
  },
  "language_info": {
   "codemirror_mode": {
    "name": "ipython",
    "version": 3
   },
   "file_extension": ".py",
   "mimetype": "text/x-python",
   "name": "python",
   "nbconvert_exporter": "python",
   "pygments_lexer": "ipython3",
   "version": "3.9.6"
  }
 },
 "nbformat": 4,
 "nbformat_minor": 1
}
